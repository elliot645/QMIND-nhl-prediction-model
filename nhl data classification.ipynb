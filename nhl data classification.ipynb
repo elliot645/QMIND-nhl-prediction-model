{
 "cells": [
  {
   "cell_type": "code",
   "execution_count": 3,
   "id": "e3b3fcc3",
   "metadata": {},
   "outputs": [],
   "source": [
    "import numpy as np\n",
    "import matplotlib.pyplot as plt\n",
    "import pandas as pd"
   ]
  },
  {
   "cell_type": "code",
   "execution_count": 4,
   "id": "813edef0",
   "metadata": {},
   "outputs": [
    {
     "data": {
      "text/html": [
       "<div>\n",
       "<style scoped>\n",
       "    .dataframe tbody tr th:only-of-type {\n",
       "        vertical-align: middle;\n",
       "    }\n",
       "\n",
       "    .dataframe tbody tr th {\n",
       "        vertical-align: top;\n",
       "    }\n",
       "\n",
       "    .dataframe thead th {\n",
       "        text-align: right;\n",
       "    }\n",
       "</style>\n",
       "<table border=\"1\" class=\"dataframe\">\n",
       "  <thead>\n",
       "    <tr style=\"text-align: right;\">\n",
       "      <th></th>\n",
       "      <th>gameId</th>\n",
       "      <th>avgGoalDif</th>\n",
       "      <th>avgXGoalDif</th>\n",
       "      <th>avgHF</th>\n",
       "      <th>winStreak</th>\n",
       "      <th>avgPPG</th>\n",
       "      <th>daysSinceLast</th>\n",
       "      <th>Win</th>\n",
       "    </tr>\n",
       "  </thead>\n",
       "  <tbody>\n",
       "    <tr>\n",
       "      <th>15752</th>\n",
       "      <td>2022020728</td>\n",
       "      <td>-1.8</td>\n",
       "      <td>-1.4848</td>\n",
       "      <td>-0.2</td>\n",
       "      <td>0.0</td>\n",
       "      <td>-0.4</td>\n",
       "      <td>-1.0</td>\n",
       "      <td>True</td>\n",
       "    </tr>\n",
       "    <tr>\n",
       "      <th>15753</th>\n",
       "      <td>2022020729</td>\n",
       "      <td>0.4</td>\n",
       "      <td>0.1450</td>\n",
       "      <td>2.2</td>\n",
       "      <td>0.0</td>\n",
       "      <td>0.8</td>\n",
       "      <td>4.0</td>\n",
       "      <td>False</td>\n",
       "    </tr>\n",
       "    <tr>\n",
       "      <th>15754</th>\n",
       "      <td>2022020730</td>\n",
       "      <td>1.0</td>\n",
       "      <td>-0.8180</td>\n",
       "      <td>7.6</td>\n",
       "      <td>-1.0</td>\n",
       "      <td>0.0</td>\n",
       "      <td>0.0</td>\n",
       "      <td>True</td>\n",
       "    </tr>\n",
       "    <tr>\n",
       "      <th>15755</th>\n",
       "      <td>2022020731</td>\n",
       "      <td>-3.4</td>\n",
       "      <td>-0.5562</td>\n",
       "      <td>7.0</td>\n",
       "      <td>-3.0</td>\n",
       "      <td>-1.2</td>\n",
       "      <td>0.0</td>\n",
       "      <td>False</td>\n",
       "    </tr>\n",
       "    <tr>\n",
       "      <th>15756</th>\n",
       "      <td>2022020732</td>\n",
       "      <td>1.4</td>\n",
       "      <td>2.7336</td>\n",
       "      <td>-8.6</td>\n",
       "      <td>0.0</td>\n",
       "      <td>0.4</td>\n",
       "      <td>0.0</td>\n",
       "      <td>True</td>\n",
       "    </tr>\n",
       "    <tr>\n",
       "      <th>...</th>\n",
       "      <td>...</td>\n",
       "      <td>...</td>\n",
       "      <td>...</td>\n",
       "      <td>...</td>\n",
       "      <td>...</td>\n",
       "      <td>...</td>\n",
       "      <td>...</td>\n",
       "      <td>...</td>\n",
       "    </tr>\n",
       "    <tr>\n",
       "      <th>15852</th>\n",
       "      <td>2022020828</td>\n",
       "      <td>2.0</td>\n",
       "      <td>0.6222</td>\n",
       "      <td>9.8</td>\n",
       "      <td>3.0</td>\n",
       "      <td>0.8</td>\n",
       "      <td>1.0</td>\n",
       "      <td>True</td>\n",
       "    </tr>\n",
       "    <tr>\n",
       "      <th>15853</th>\n",
       "      <td>2022020829</td>\n",
       "      <td>-1.4</td>\n",
       "      <td>-2.4604</td>\n",
       "      <td>-1.2</td>\n",
       "      <td>0.0</td>\n",
       "      <td>-0.8</td>\n",
       "      <td>1.0</td>\n",
       "      <td>False</td>\n",
       "    </tr>\n",
       "    <tr>\n",
       "      <th>15854</th>\n",
       "      <td>2022020830</td>\n",
       "      <td>-2.0</td>\n",
       "      <td>-1.6284</td>\n",
       "      <td>1.2</td>\n",
       "      <td>-1.0</td>\n",
       "      <td>-0.8</td>\n",
       "      <td>-1.0</td>\n",
       "      <td>True</td>\n",
       "    </tr>\n",
       "    <tr>\n",
       "      <th>15855</th>\n",
       "      <td>2022020831</td>\n",
       "      <td>1.6</td>\n",
       "      <td>-0.4206</td>\n",
       "      <td>-14.6</td>\n",
       "      <td>0.0</td>\n",
       "      <td>0.8</td>\n",
       "      <td>0.0</td>\n",
       "      <td>False</td>\n",
       "    </tr>\n",
       "    <tr>\n",
       "      <th>15856</th>\n",
       "      <td>2022020990</td>\n",
       "      <td>-0.4</td>\n",
       "      <td>-1.2478</td>\n",
       "      <td>-13.4</td>\n",
       "      <td>2.0</td>\n",
       "      <td>0.0</td>\n",
       "      <td>1.0</td>\n",
       "      <td>False</td>\n",
       "    </tr>\n",
       "  </tbody>\n",
       "</table>\n",
       "<p>100 rows × 8 columns</p>\n",
       "</div>"
      ],
      "text/plain": [
       "           gameId  avgGoalDif  avgXGoalDif  avgHF  winStreak  avgPPG  \\\n",
       "15752  2022020728        -1.8      -1.4848   -0.2        0.0    -0.4   \n",
       "15753  2022020729         0.4       0.1450    2.2        0.0     0.8   \n",
       "15754  2022020730         1.0      -0.8180    7.6       -1.0     0.0   \n",
       "15755  2022020731        -3.4      -0.5562    7.0       -3.0    -1.2   \n",
       "15756  2022020732         1.4       2.7336   -8.6        0.0     0.4   \n",
       "...           ...         ...          ...    ...        ...     ...   \n",
       "15852  2022020828         2.0       0.6222    9.8        3.0     0.8   \n",
       "15853  2022020829        -1.4      -2.4604   -1.2        0.0    -0.8   \n",
       "15854  2022020830        -2.0      -1.6284    1.2       -1.0    -0.8   \n",
       "15855  2022020831         1.6      -0.4206  -14.6        0.0     0.8   \n",
       "15856  2022020990        -0.4      -1.2478  -13.4        2.0     0.0   \n",
       "\n",
       "       daysSinceLast    Win  \n",
       "15752           -1.0   True  \n",
       "15753            4.0  False  \n",
       "15754            0.0   True  \n",
       "15755            0.0  False  \n",
       "15756            0.0   True  \n",
       "...              ...    ...  \n",
       "15852            1.0   True  \n",
       "15853            1.0  False  \n",
       "15854           -1.0   True  \n",
       "15855            0.0  False  \n",
       "15856            1.0  False  \n",
       "\n",
       "[100 rows x 8 columns]"
      ]
     },
     "execution_count": 4,
     "metadata": {},
     "output_type": "execute_result"
    }
   ],
   "source": [
    "data = pd.read_csv('mlData.csv')\n",
    "data = data.loc[data['goalsFor'] != 0] #get rid of all ties\n",
    "data['Win'] = data['goalsFor'] > 0 #create wins column\n",
    "del data['goalsFor'] #get rid of goalsFor\n",
    "X = data.iloc[:, 1:-1].values\n",
    "y = data.iloc[:, -1].values\n",
    "data.tail(100)"
   ]
  },
  {
   "cell_type": "code",
   "execution_count": 5,
   "id": "1aabbed5",
   "metadata": {},
   "outputs": [],
   "source": [
    "from sklearn.model_selection import train_test_split\n",
    "X_train, X_test, y_train, y_test = train_test_split(X, y, test_size = 0.2)"
   ]
  },
  {
   "cell_type": "markdown",
   "id": "55a6a797",
   "metadata": {},
   "source": [
    "**Decision Tree**"
   ]
  },
  {
   "cell_type": "code",
   "execution_count": 37,
   "id": "70a9733f",
   "metadata": {},
   "outputs": [
    {
     "data": {
      "text/plain": [
       "0.5088152327221439"
      ]
     },
     "execution_count": 37,
     "metadata": {},
     "output_type": "execute_result"
    }
   ],
   "source": [
    "from sklearn.tree import DecisionTreeClassifier\n",
    " \n",
    "clf = DecisionTreeClassifier(splitter = 'best')\n",
    "clf.fit(X_train, y_train)\n",
    "\n",
    "# Accuracy on training set\n",
    "#clf.score(X_train, y_train)\n",
    "\n",
    "# Accuracy on test set\n",
    "clf.score(X_test, y_test)"
   ]
  },
  {
   "cell_type": "markdown",
   "id": "5c065f30",
   "metadata": {},
   "source": [
    "**MLP Classifier**"
   ]
  },
  {
   "cell_type": "code",
   "execution_count": 46,
   "id": "cf0fe2ed",
   "metadata": {},
   "outputs": [
    {
     "data": {
      "text/plain": [
       "0.5662905500705219"
      ]
     },
     "execution_count": 46,
     "metadata": {},
     "output_type": "execute_result"
    }
   ],
   "source": [
    "from sklearn.neural_network import MLPClassifier\n",
    "\n",
    "clf = MLPClassifier()\n",
    "clf.fit(X_train, y_train)\n",
    "\n",
    "# Accuracy on training set\n",
    "#clf.score(X_train, y_train)\n",
    "\n",
    "# Accuracy on test set\n",
    "clf.score(X_test, y_test)"
   ]
  },
  {
   "cell_type": "code",
   "execution_count": null,
   "id": "542a13bf",
   "metadata": {},
   "outputs": [],
   "source": []
  }
 ],
 "metadata": {
  "kernelspec": {
   "display_name": "Python 3 (ipykernel)",
   "language": "python",
   "name": "python3"
  },
  "language_info": {
   "codemirror_mode": {
    "name": "ipython",
    "version": 3
   },
   "file_extension": ".py",
   "mimetype": "text/x-python",
   "name": "python",
   "nbconvert_exporter": "python",
   "pygments_lexer": "ipython3",
   "version": "3.9.13"
  }
 },
 "nbformat": 4,
 "nbformat_minor": 5
}
